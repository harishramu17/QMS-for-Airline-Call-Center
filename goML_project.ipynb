{
  "nbformat": 4,
  "nbformat_minor": 0,
  "metadata": {
    "colab": {
      "provenance": []
    },
    "kernelspec": {
      "name": "python3",
      "display_name": "Python 3"
    },
    "language_info": {
      "name": "python"
    }
  },
  "cells": [
    {
      "cell_type": "markdown",
      "source": [
        "<h2>Installing required packages<h2>"
      ],
      "metadata": {
        "id": "zm8_ngpNIujt"
      }
    },
    {
      "cell_type": "code",
      "execution_count": 49,
      "metadata": {
        "colab": {
          "base_uri": "https://localhost:8080/"
        },
        "id": "XW3GIXnxIfOX",
        "outputId": "8c66190f-4267-430f-e990-8e74a7393538"
      },
      "outputs": [
        {
          "output_type": "stream",
          "name": "stdout",
          "text": [
            "Requirement already satisfied: textblob in /usr/local/lib/python3.10/dist-packages (0.17.1)\n",
            "Requirement already satisfied: nltk>=3.1 in /usr/local/lib/python3.10/dist-packages (from textblob) (3.8.1)\n",
            "Requirement already satisfied: click in /usr/local/lib/python3.10/dist-packages (from nltk>=3.1->textblob) (8.1.7)\n",
            "Requirement already satisfied: joblib in /usr/local/lib/python3.10/dist-packages (from nltk>=3.1->textblob) (1.3.2)\n",
            "Requirement already satisfied: regex>=2021.8.3 in /usr/local/lib/python3.10/dist-packages (from nltk>=3.1->textblob) (2023.12.25)\n",
            "Requirement already satisfied: tqdm in /usr/local/lib/python3.10/dist-packages (from nltk>=3.1->textblob) (4.66.2)\n",
            "Requirement already satisfied: assemblyai in /usr/local/lib/python3.10/dist-packages (0.23.1)\n",
            "Requirement already satisfied: httpx>=0.19.0 in /usr/local/lib/python3.10/dist-packages (from assemblyai) (0.27.0)\n",
            "Requirement already satisfied: pydantic!=1.10.7,>=1.7.0 in /usr/local/lib/python3.10/dist-packages (from assemblyai) (2.6.4)\n",
            "Requirement already satisfied: typing-extensions>=3.7 in /usr/local/lib/python3.10/dist-packages (from assemblyai) (4.10.0)\n",
            "Requirement already satisfied: websockets>=11.0 in /usr/local/lib/python3.10/dist-packages (from assemblyai) (12.0)\n",
            "Requirement already satisfied: anyio in /usr/local/lib/python3.10/dist-packages (from httpx>=0.19.0->assemblyai) (3.7.1)\n",
            "Requirement already satisfied: certifi in /usr/local/lib/python3.10/dist-packages (from httpx>=0.19.0->assemblyai) (2024.2.2)\n",
            "Requirement already satisfied: httpcore==1.* in /usr/local/lib/python3.10/dist-packages (from httpx>=0.19.0->assemblyai) (1.0.5)\n",
            "Requirement already satisfied: idna in /usr/local/lib/python3.10/dist-packages (from httpx>=0.19.0->assemblyai) (3.6)\n",
            "Requirement already satisfied: sniffio in /usr/local/lib/python3.10/dist-packages (from httpx>=0.19.0->assemblyai) (1.3.1)\n",
            "Requirement already satisfied: h11<0.15,>=0.13 in /usr/local/lib/python3.10/dist-packages (from httpcore==1.*->httpx>=0.19.0->assemblyai) (0.14.0)\n",
            "Requirement already satisfied: annotated-types>=0.4.0 in /usr/local/lib/python3.10/dist-packages (from pydantic!=1.10.7,>=1.7.0->assemblyai) (0.6.0)\n",
            "Requirement already satisfied: pydantic-core==2.16.3 in /usr/local/lib/python3.10/dist-packages (from pydantic!=1.10.7,>=1.7.0->assemblyai) (2.16.3)\n",
            "Requirement already satisfied: exceptiongroup in /usr/local/lib/python3.10/dist-packages (from anyio->httpx>=0.19.0->assemblyai) (1.2.0)\n",
            "Requirement already satisfied: pandas in /usr/local/lib/python3.10/dist-packages (1.5.3)\n",
            "Requirement already satisfied: python-dateutil>=2.8.1 in /usr/local/lib/python3.10/dist-packages (from pandas) (2.8.2)\n",
            "Requirement already satisfied: pytz>=2020.1 in /usr/local/lib/python3.10/dist-packages (from pandas) (2023.4)\n",
            "Requirement already satisfied: numpy>=1.21.0 in /usr/local/lib/python3.10/dist-packages (from pandas) (1.25.2)\n",
            "Requirement already satisfied: six>=1.5 in /usr/local/lib/python3.10/dist-packages (from python-dateutil>=2.8.1->pandas) (1.16.0)\n",
            "Requirement already satisfied: matplotlib in /usr/local/lib/python3.10/dist-packages (3.7.1)\n",
            "Requirement already satisfied: contourpy>=1.0.1 in /usr/local/lib/python3.10/dist-packages (from matplotlib) (1.2.0)\n",
            "Requirement already satisfied: cycler>=0.10 in /usr/local/lib/python3.10/dist-packages (from matplotlib) (0.12.1)\n",
            "Requirement already satisfied: fonttools>=4.22.0 in /usr/local/lib/python3.10/dist-packages (from matplotlib) (4.50.0)\n",
            "Requirement already satisfied: kiwisolver>=1.0.1 in /usr/local/lib/python3.10/dist-packages (from matplotlib) (1.4.5)\n",
            "Requirement already satisfied: numpy>=1.20 in /usr/local/lib/python3.10/dist-packages (from matplotlib) (1.25.2)\n",
            "Requirement already satisfied: packaging>=20.0 in /usr/local/lib/python3.10/dist-packages (from matplotlib) (24.0)\n",
            "Requirement already satisfied: pillow>=6.2.0 in /usr/local/lib/python3.10/dist-packages (from matplotlib) (9.4.0)\n",
            "Requirement already satisfied: pyparsing>=2.3.1 in /usr/local/lib/python3.10/dist-packages (from matplotlib) (3.1.2)\n",
            "Requirement already satisfied: python-dateutil>=2.7 in /usr/local/lib/python3.10/dist-packages (from matplotlib) (2.8.2)\n",
            "Requirement already satisfied: six>=1.5 in /usr/local/lib/python3.10/dist-packages (from python-dateutil>=2.7->matplotlib) (1.16.0)\n",
            "\u001b[31mERROR: Invalid requirement: 'seaborn#for'\u001b[0m\u001b[31m\n",
            "\u001b[0m"
          ]
        }
      ],
      "source": [
        "!pip install textblob #determining sentiment score\n",
        "!pip install assemblyai #for transcribing\n",
        "!pip install pandas  #for data preprocessing\n",
        "!pip install numpy  #for data preprocessing\n",
        "!pip install matplotlib #for visualization\n",
        "!pip install seaborn#for visualization"
      ]
    },
    {
      "cell_type": "markdown",
      "source": [
        "<h3>Importing the Libraries"
      ],
      "metadata": {
        "id": "Kz9suK2xJtU7"
      }
    },
    {
      "cell_type": "code",
      "source": [
        "import os\n",
        "import zipfile\n",
        "from textblob import TextBlob\n",
        "import assemblyai as aai\n",
        "import pandas as pd\n",
        "import numpy as np\n",
        "import matplotlib.pyplot as plt\n",
        "import seaborn as sns\n",
        "from wordcloud import WordCloud"
      ],
      "metadata": {
        "id": "nlHxnYMLIlwL"
      },
      "execution_count": 77,
      "outputs": []
    },
    {
      "cell_type": "markdown",
      "source": [
        "<h3>Extracting data from zip file"
      ],
      "metadata": {
        "id": "lZYkELsCKA88"
      }
    },
    {
      "cell_type": "code",
      "source": [
        "def extract_audio_files(zip_file_path):\n",
        "    audio_files=[]\n",
        "\n",
        "    # Extracting audio files from zip file and storing it in temp_audio folder\n",
        "    os.makedirs(\"temp_audio\", exist_ok=True)\n",
        "    with zipfile.ZipFile(zip_file_path, 'r') as zip_ref:\n",
        "        for file_name in zip_ref.namelist():\n",
        "            if file_name.endswith('.mp3'):\n",
        "                zip_ref.extract(file_name,\"temp_audio\")\n",
        "                audio_files.append(os.path.join(\"temp_audio\",file_name))\n",
        "\n",
        "    return audio_files"
      ],
      "metadata": {
        "id": "u5vkw2mUKJE8"
      },
      "execution_count": 51,
      "outputs": []
    },
    {
      "cell_type": "markdown",
      "source": [
        "<h3>Transcribing the audio"
      ],
      "metadata": {
        "id": "ogdQz3ehJ1jN"
      }
    },
    {
      "cell_type": "code",
      "source": [
        "def transcribe_audio_from_zip(zip_file_path,api_key):\n",
        "    # Initializing AssemblyAI through API KEY\n",
        "    aai.settings.api_key=api_key\n",
        "    transcriber=aai.Transcriber()\n",
        "    # Extracting audio files from the zip file\n",
        "    audio_files=extract_audio_files(zip_file_path)\n",
        "    transcriptions=[]\n",
        "    # Transcribing each audio file\n",
        "    for audio_file in audio_files:\n",
        "        try:\n",
        "            transcript=transcriber.transcribe(audio_file)\n",
        "            transcriptions.append(transcript.text)\n",
        "        except Exception as e:\n",
        "            print(f\"Error transcribing {audio_file}: {e}\")\n",
        "\n",
        "    return transcriptions"
      ],
      "metadata": {
        "id": "hPebmIIkJyA6"
      },
      "execution_count": 52,
      "outputs": []
    },
    {
      "cell_type": "markdown",
      "source": [
        "<h3>Sentimental Analysis"
      ],
      "metadata": {
        "id": "1kWA6gjLKQ_T"
      }
    },
    {
      "cell_type": "code",
      "source": [
        "#determining sentiment score\n",
        "def analyze_sentiment(transcription):\n",
        "    blob=TextBlob(transcription)\n",
        "    sentiment_score=blob.sentiment.polarity\n",
        "    if sentiment_score > 0:\n",
        "            return \"POSITIVE\"\n",
        "    elif sentiment_score < 0:\n",
        "            return \"NEGATIVE\"\n",
        "    else:\n",
        "            return \"NEUTRAL\""
      ],
      "metadata": {
        "id": "QlMKWgDsKOAL"
      },
      "execution_count": 53,
      "outputs": []
    },
    {
      "cell_type": "markdown",
      "source": [
        "<h3>Problem Bucketing/Classification"
      ],
      "metadata": {
        "id": "prLvqkZ1KVhW"
      }
    },
    {
      "cell_type": "code",
      "source": [
        "def analyze_problem_category(transcription):\n",
        "  #classifying into different categories\n",
        "    if \"cancellation\" in transcription.lower() or \"refund\" in transcription.lower():\n",
        "        return \"Cancellation/Refund\"\n",
        "    elif \"reschedule\" in transcription.lower() or \"flight delay\" in transcription.lower():\n",
        "        return \"Reschedule/Flight Delay\"\n",
        "    elif \"staff behavior\" in transcription.lower():\n",
        "        return \"Staff Behavior\"\n",
        "    else:\n",
        "        return \"Miscellaneous\""
      ],
      "metadata": {
        "id": "r-IxqLL3Kaot"
      },
      "execution_count": 54,
      "outputs": []
    },
    {
      "cell_type": "markdown",
      "source": [
        "<h3>Visualizing the transcriptions"
      ],
      "metadata": {
        "id": "rKAJnZNJLHZf"
      }
    },
    {
      "cell_type": "code",
      "source": [
        "def display_classification_results(categories, sentiments, positive_phrases_count, negative_phrases_count):\n",
        "    print(\"Problem Categories:\")\n",
        "    for category, count in categories.items():\n",
        "        print(f\"{category}:{count}\")\n",
        "\n",
        "    print(\"\\nSentiment Analysis:\")\n",
        "    for sentiment, count in sentiments.items():\n",
        "        print(f\"{sentiment}:{count}\")\n",
        "\n",
        "    plt.figure(figsize=(8,6))\n",
        "    sns.barplot(x=[\"Positive\", \"Negative\"], y=[sentiments[\"POSITIVE\"],sentiments[\"NEGATIVE\"]])\n",
        "    plt.title(\"Count of Positive and Negative Phrases\")\n",
        "    plt.xlabel(\"Sentiment\")\n",
        "    plt.ylabel(\"Count\")\n",
        "    plt.show()"
      ],
      "metadata": {
        "id": "66EW9G3ELG0J"
      },
      "execution_count": 55,
      "outputs": []
    },
    {
      "cell_type": "markdown",
      "source": [
        "<h2>Calculating KEY PERFORMANCE INDICATOR"
      ],
      "metadata": {
        "id": "AQQelfTsLjEu"
      }
    },
    {
      "cell_type": "markdown",
      "source": [
        "<h3>Average sentiment,Resolution time,Agent Performance"
      ],
      "metadata": {
        "id": "v1yjAywwhse8"
      }
    },
    {
      "cell_type": "code",
      "source": [
        "def calculate_kpis(categories, sentiments, positive_phrases_count, negative_phrases_count, total_transcriptions):\n",
        "    total_categories=sum(categories.values())\n",
        "    total_sentiments=sum(sentiments.values())\n",
        "    average_sentiment=(sentiments[\"POSITIVE\"] - sentiments[\"NEGATIVE\"]) / total_sentiments if total_sentiments != 0 else 0\n",
        "    resolution_time=total_transcriptions / total_categories if total_categories != 0 else 0\n",
        "    agent_performance=sentiments[\"POSITIVE\"] / total_sentiments if total_sentiments != 0 else 0\n",
        "    return average_sentiment, resolution_time, agent_performance"
      ],
      "metadata": {
        "id": "KPAvRf-MLeYr"
      },
      "execution_count": 56,
      "outputs": []
    },
    {
      "cell_type": "markdown",
      "source": [
        "<h3>Resolution rate"
      ],
      "metadata": {
        "id": "KmcvF9yXaVV1"
      }
    },
    {
      "cell_type": "code",
      "source": [
        "def calculate_resolution_rate(conversation):\n",
        "    # Defining keywords for resolution\n",
        "    resolution=[\"resolved\", \"satisfied\", \"thank you\", \"problem solved\"]\n",
        "    issues= any(indicator in conversation.lower() for indicator in resolution)\n",
        "    # Calculating resolution rate for positive and negative cases\n",
        "    resolution_rate = 1 if issues else 0\n",
        "    return resolution_rate"
      ],
      "metadata": {
        "id": "8wXpjiI1aNCZ"
      },
      "execution_count": 67,
      "outputs": []
    },
    {
      "cell_type": "markdown",
      "source": [
        "<h3>Transfer Rate"
      ],
      "metadata": {
        "id": "T1CAuXYyahsq"
      }
    },
    {
      "cell_type": "code",
      "source": [
        "def calculate_transfer_rate(conversation):\n",
        "    # Defining keywords for call transfer\n",
        "    transfer=[\"transferred\", \"transfer the call\", \"transferring you\"]\n",
        "    no_transfers=0\n",
        "    segments=conversation.split(\".\")\n",
        "    # Check each segment for transfer keywords\n",
        "    for segment in segments:\n",
        "        if any(keyword in segment.lower() for keyword in transfer):\n",
        "            no_transfers+=1\n",
        "    total_calls=10\n",
        "    # Calculating the transfer rate\n",
        "    transfer_rate=no_transfers / total_calls\n",
        "    return transfer_rate"
      ],
      "metadata": {
        "id": "M_8bdSoBadaR"
      },
      "execution_count": 58,
      "outputs": []
    },
    {
      "cell_type": "markdown",
      "source": [
        "<h3>Calculate ASA"
      ],
      "metadata": {
        "id": "esCNLhXuawJs"
      }
    },
    {
      "cell_type": "code",
      "source": [
        "def calculate_asa(conversation):\n",
        "    start_time=\"00:00:00\"\n",
        "    response_time=\"00:02:30\"\n",
        "    # Calculate Average Speed of Answer\n",
        "    start_seconds=convert_to_seconds(start_time)\n",
        "    response_seconds=convert_to_seconds(response_time)\n",
        "    # Converting ASA from seconds to minutes\n",
        "    asa_minutes=(response_seconds-start_seconds)/60\n",
        "    return asa_minutes\n",
        "\n",
        "#Converting timestamp string to seconds\n",
        "def convert_to_seconds(timestamp):\n",
        "    hours,minutes,second=map(int, timestamp.split(\":\"))\n",
        "    total_seconds=hours*3600+minutes*60+second\n",
        "    return total_seconds"
      ],
      "metadata": {
        "id": "TXiEP2pAaqyr"
      },
      "execution_count": 59,
      "outputs": []
    },
    {
      "cell_type": "markdown",
      "source": [
        "<h3>Error rate"
      ],
      "metadata": {
        "id": "-AvAesM_bl1A"
      }
    },
    {
      "cell_type": "code",
      "source": [
        "def calculate_error_rate(conversation):\n",
        "    # Defining keywords for errors\n",
        "    error_keywords = [\"error\", \"issue\", \"problem\", \"mistake\", \"incorrect\", \"fault\", \"apology\", \"sorry\"]\n",
        "    num_errors = sum(conversation.lower().count(keyword) for keyword in error_keywords)\n",
        "    total_words = len(conversation.split())\n",
        "\n",
        "    # Calculating Error Rate\n",
        "    error_rate = (num_errors / total_words) * 100\n",
        "    return error_rate"
      ],
      "metadata": {
        "id": "U_XX5U71bpfF"
      },
      "execution_count": 60,
      "outputs": []
    },
    {
      "cell_type": "markdown",
      "source": [
        "<h3>Visualizing the KPI"
      ],
      "metadata": {
        "id": "wlp7K9xIhibJ"
      }
    },
    {
      "cell_type": "code",
      "source": [
        "def plot_kpis(average_sentiment, resolution_time, agent_performance):\n",
        "    print(\"Average Sentiment Score:\",average_sentiment)\n",
        "    print(\"Resolution Time:\",resolution_time)\n",
        "    print(\"Agent Performance:\",agent_performance)\n",
        "    kpis = {\"Average Sentiment Score\": average_sentiment, \"Resolution Time\": resolution_time, \"Agent Performance\": agent_performance}\n",
        "    plt.figure(figsize=(10, 6))\n",
        "    sns.barplot(x=list(kpis.keys()), y=list(kpis.values()))\n",
        "    plt.title(\"Key Performance Indicators (KPIs)\")\n",
        "    plt.xlabel(\"KPIs\")\n",
        "    plt.ylabel(\"Value\")\n",
        "    plt.show()"
      ],
      "metadata": {
        "id": "8gVfd0Byhgw8"
      },
      "execution_count": 61,
      "outputs": []
    },
    {
      "cell_type": "markdown",
      "source": [
        "<h2>Function call"
      ],
      "metadata": {
        "id": "twC5i6SfeGy-"
      }
    },
    {
      "cell_type": "code",
      "source": [
        "api_key = \"4e36f069d21d46c481552d56b7bbbf87\"\n",
        "zip_file_path = \"/content/ML Task.zip\"\n",
        "transcriptions = transcribe_audio_from_zip(zip_file_path, api_key)"
      ],
      "metadata": {
        "id": "K5n3rEiBeFRU"
      },
      "execution_count": 62,
      "outputs": []
    },
    {
      "cell_type": "code",
      "source": [
        "if transcriptions:\n",
        "    total_transcriptions = len(transcriptions)\n",
        "    categories, sentiments, positive_phrases_count, negative_phrases_count = classify_and_analyze(transcriptions)\n",
        "    average_sentiment, resolution_time, agent_performance = calculate_kpis(categories, sentiments, positive_phrases_count, negative_phrases_count, total_transcriptions)\n",
        "    display_classification_results(categories, sentiments, positive_phrases_count, negative_phrases_count)\n",
        "    plot_kpis(average_sentiment, resolution_time, agent_performance)\n",
        "\n",
        "\n",
        "    for conversation_text in transcriptions:\n",
        "        # Calculate values for visualization\n",
        "        resolution_rate = calculate_resolution_rate(conversation_text)\n",
        "        transfer_rate = calculate_transfer_rate(conversation_text)\n",
        "        asa = calculate_asa(conversation_text)\n",
        "    error_rate_magnitudes = []\n",
        "    for conversation_text in transcriptions:\n",
        "        error_rate_magnitude = calculate_error_rate(conversation_text)\n",
        "        error_rate_magnitudes.append(error_rate_magnitude)\n",
        "    error_rate_mean = np.mean(error_rate_magnitudes)\n",
        "      #Visualizing the about data\n",
        "    functions = ['Resolution Rate','Transfer Rate', 'Average Speed of Answer', 'Silence Ratio','Error Rate']\n",
        "    magnitudes = [ resolution_rate,transfer_rate, asa,silence_ratio_magnitude,error_rate_mean]\n",
        "\n",
        "    plt.figure(figsize=(10, 6))\n",
        "    plt.bar(functions, magnitudes)\n",
        "    plt.xlabel('Value')\n",
        "    plt.title('Key Performance Indicators')\n",
        "\n",
        "else:\n",
        "    print(\"No transcriptions available.\")\n"
      ],
      "metadata": {
        "colab": {
          "base_uri": "https://localhost:8080/",
          "height": 1000
        },
        "id": "DT1IFBFIeJTa",
        "outputId": "70c583c0-65db-48ce-fcea-9fb13ff461a6"
      },
      "execution_count": 79,
      "outputs": [
        {
          "output_type": "stream",
          "name": "stdout",
          "text": [
            "Problem Categories:\n",
            "Cancellation/Refund: 4\n",
            "Reschedule/Flight Delay: 1\n",
            "Miscellaneous: 5\n",
            "\n",
            "Sentiment Analysis:\n",
            "POSITIVE: 10\n",
            "NEGATIVE: 1\n"
          ]
        },
        {
          "output_type": "display_data",
          "data": {
            "text/plain": [
              "<Figure size 800x600 with 1 Axes>"
            ],
            "image/png": "[encoded data removed]"
          },
          "metadata": {}
        },
        {
          "output_type": "stream",
          "name": "stdout",
          "text": [
            "Average Sentiment Score: 0.8181818181818182\n",
            "Resolution Time: 1.0\n",
            "Agent Performance: 0.9090909090909091\n"
          ]
        },
        {
          "output_type": "display_data",
          "data": {
            "text/plain": [
              "<Figure size 1000x600 with 1 Axes>"
            ],
            "image/png": "[encoded data removed]"
          },
          "metadata": {}
        },
        {
          "output_type": "display_data",
          "data": {
            "text/plain": [
              "<Figure size 1000x600 with 1 Axes>"
            ],
            "image/png": "[encoded data removed]"
          },
          "metadata": {}
        }
      ]
    }
  ]
}